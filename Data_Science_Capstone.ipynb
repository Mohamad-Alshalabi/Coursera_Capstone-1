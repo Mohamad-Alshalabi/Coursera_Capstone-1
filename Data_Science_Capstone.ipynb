{
  "nbformat": 4,
  "nbformat_minor": 0,
  "metadata": {
    "colab": {
      "name": "Data_Science_Capstone.ipynb",
      "provenance": []
    },
    "kernelspec": {
      "name": "python3",
      "display_name": "Python 3"
    }
  },
  "cells": [
    {
      "cell_type": "markdown",
      "metadata": {
        "id": "N77Ns8t9t04h",
        "colab_type": "text"
      },
      "source": [
        "<h1>Coursera Data Science Capstone Project Part - 1<h1>\n",
        "<h4>This notebook will be used to implement the Capstone projects titled <b><i>\"The battle of neighbourhoods\"</i></b></h4>"
      ]
    },
    {
      "cell_type": "markdown",
      "metadata": {
        "id": "dAvh6KJYvauu",
        "colab_type": "text"
      },
      "source": [
        "<h3>Segmenting and Clustering Neighborhoods in Toronto</h3>"
      ]
    },
    {
      "cell_type": "code",
      "metadata": {
        "id": "k6XOzWnnuXgk",
        "colab_type": "code",
        "outputId": "412be389-2807-4bf4-8ddf-f80e3b026336",
        "colab": {
          "base_uri": "https://localhost:8080/",
          "height": 35
        }
      },
      "source": [
        "import numpy as np\n",
        "import pandas as pd\n",
        "import requests\n",
        "import lxml.html as lh\n",
        "\n",
        "print('Libraries imported')"
      ],
      "execution_count": 1,
      "outputs": [
        {
          "output_type": "stream",
          "text": [
            "Libraries imported\n"
          ],
          "name": "stdout"
        }
      ]
    },
    {
      "cell_type": "markdown",
      "metadata": {
        "id": "S4ooqitFNW-B",
        "colab_type": "text"
      },
      "source": [
        "<h4>Scraping the Toronto Wikipedia Page using lxml parser from Beautiful Soap</h4>"
      ]
    },
    {
      "cell_type": "code",
      "metadata": {
        "id": "iE_Ik2_Uur_W",
        "colab_type": "code",
        "colab": {}
      },
      "source": [
        "#Toronto Wikipedia link\n",
        "url='https://en.wikipedia.org/wiki/List_of_postal_codes_of_Canada:_M'\n",
        "#getting content from the html page\n",
        "page_content = lh.fromstring(requests.get(url).content)\n",
        "#accessing the table data\n",
        "table_data = page_content.xpath(\"//tr\")"
      ],
      "execution_count": 0,
      "outputs": []
    },
    {
      "cell_type": "markdown",
      "metadata": {
        "id": "kD89EdXDM4M1",
        "colab_type": "text"
      },
      "source": [
        "<h4>Generating Toronto Neighbourhood data from scrapped data as a Python list</h4>"
      ]
    },
    {
      "cell_type": "code",
      "metadata": {
        "id": "W0UPelrNwSzA",
        "colab_type": "code",
        "colab": {
          "base_uri": "https://localhost:8080/",
          "height": 69
        },
        "outputId": "ccac45f6-0d94-4406-c8f4-7cd499d6f14b"
      },
      "source": [
        "toronto_data=[]\n",
        "col_ind=0\n",
        "\n",
        "#Creating header with empty list to add list of values under each column, replace new line character\n",
        "for th in table_data[0]:\n",
        "    col_ind+=1\n",
        "    header=str(th.text_content()).replace('\\n','')\n",
        "    print (col_ind,header)\n",
        "    toronto_data.append((header,[]))\n",
        "    #print(toronto_data)"
      ],
      "execution_count": 3,
      "outputs": [
        {
          "output_type": "stream",
          "text": [
            "1 Postcode\n",
            "2 Borough\n",
            "3 Neighbourhood\n"
          ],
          "name": "stdout"
        }
      ]
    },
    {
      "cell_type": "code",
      "metadata": {
        "id": "qSI609MEy1_4",
        "colab_type": "code",
        "colab": {
          "base_uri": "https://localhost:8080/",
          "height": 89
        },
        "outputId": "2df2d1e8-50ff-4896-ab6f-90c2aa0f8c3a"
      },
      "source": [
        "# range starts from 1, since header is handled\n",
        "for td in range(1,len(table_data)):\n",
        "    row=table_data[td]\n",
        "    \n",
        "    #Exclude if the row length is not 3\n",
        "    if len(row) != 3:\n",
        "      break\n",
        "    \n",
        "    col_ind=0\n",
        "  \n",
        "    #Iterating through each element of the row, replace new line character\n",
        "    for val in row.iterchildren():\n",
        "        data=str(val.text_content()).replace('\\n','')\n",
        "        #Append the data after header\n",
        "        toronto_data[col_ind][1].append(data)\n",
        "        #Increment i for next column\n",
        "        col_ind+=1\n",
        "\n",
        "#print(toronto_data)\n",
        "#print(len(toronto_data))\n",
        "#print([len(rows) for (i,rows) in toronto_data])"
      ],
      "execution_count": 4,
      "outputs": [
        {
          "output_type": "stream",
          "text": [
            "[('Postcode', ['M1A', 'M2A', 'M3A', 'M4A', 'M5A', 'M6A', 'M6A', 'M7A', 'M8A', 'M9A', 'M1B', 'M1B', 'M2B', 'M3B', 'M4B', 'M4B', 'M5B', 'M5B', 'M6B', 'M7B', 'M8B', 'M9B', 'M9B', 'M9B', 'M9B', 'M9B', 'M1C', 'M1C', 'M1C', 'M2C', 'M3C', 'M3C', 'M4C', 'M5C', 'M6C', 'M7C', 'M8C', 'M9C', 'M9C', 'M9C', 'M9C', 'M1E', 'M1E', 'M1E', 'M2E', 'M3E', 'M4E', 'M5E', 'M6E', 'M7E', 'M8E', 'M9E', 'M1G', 'M2G', 'M3G', 'M4G', 'M5G', 'M6G', 'M7G', 'M8G', 'M9G', 'M1H', 'M2H', 'M3H', 'M3H', 'M3H', 'M4H', 'M5H', 'M5H', 'M5H', 'M6H', 'M6H', 'M7H', 'M8H', 'M9H', 'M1J', 'M2J', 'M2J', 'M2J', 'M3J', 'M3J', 'M4J', 'M5J', 'M5J', 'M5J', 'M6J', 'M6J', 'M7J', 'M8J', 'M9J', 'M1K', 'M1K', 'M1K', 'M2K', 'M3K', 'M3K', 'M4K', 'M4K', 'M5K', 'M5K', 'M6K', 'M6K', 'M6K', 'M7K', 'M8K', 'M9K', 'M1L', 'M1L', 'M1L', 'M2L', 'M2L', 'M3L', 'M4L', 'M4L', 'M5L', 'M5L', 'M6L', 'M6L', 'M6L', 'M7L', 'M8L', 'M9L', 'M1M', 'M1M', 'M1M', 'M2M', 'M2M', 'M3M', 'M4M', 'M5M', 'M5M', 'M6M', 'M6M', 'M6M', 'M6M', 'M7M', 'M8M', 'M9M', 'M9M', 'M1N', 'M1N', 'M2N', 'M3N', 'M4N', 'M5N', 'M6N', 'M6N', 'M7N', 'M8N', 'M9N', 'M1P', 'M1P', 'M1P', 'M2P', 'M3P', 'M4P', 'M5P', 'M5P', 'M6P', 'M6P', 'M7P', 'M8P', 'M9P', 'M1R', 'M1R', 'M2R', 'M3R', 'M4R', 'M5R', 'M5R', 'M5R', 'M6R', 'M6R', 'M7R', 'M8R', 'M9R', 'M9R', 'M9R', 'M9R', 'M1S', 'M2S', 'M3S', 'M4S', 'M5S', 'M5S', 'M6S', 'M6S', 'M7S', 'M8S', 'M9S', 'M1T', 'M1T', 'M1T', 'M2T', 'M3T', 'M4T', 'M4T', 'M5T', 'M5T', 'M5T', 'M6T', 'M7T', 'M8T', 'M9T', 'M1V', 'M1V', 'M1V', 'M1V', 'M2V', 'M3V', 'M4V', 'M4V', 'M4V', 'M4V', 'M4V', 'M5V', 'M5V', 'M5V', 'M5V', 'M5V', 'M5V', 'M5V', 'M6V', 'M7V', 'M8V', 'M8V', 'M8V', 'M9V', 'M9V', 'M9V', 'M9V', 'M9V', 'M9V', 'M9V', 'M9V', 'M1W', 'M2W', 'M3W', 'M4W', 'M5W', 'M6W', 'M7W', 'M8W', 'M8W', 'M9W', 'M1X', 'M2X', 'M3X', 'M4X', 'M4X', 'M5X', 'M5X', 'M6X', 'M7X', 'M8X', 'M8X', 'M8X', 'M9X', 'M1Y', 'M2Y', 'M3Y', 'M4Y', 'M5Y', 'M6Y', 'M7Y', 'M8Y', 'M8Y', 'M8Y', 'M8Y', 'M8Y', 'M8Y', 'M8Y', 'M8Y', 'M9Y', 'M1Z', 'M2Z', 'M3Z', 'M4Z', 'M5Z', 'M6Z', 'M7Z', 'M8Z', 'M8Z', 'M8Z', 'M8Z', 'M8Z', 'M9Z']), ('Borough', ['Not assigned', 'Not assigned', 'North York', 'North York', 'Downtown Toronto', 'North York', 'North York', \"Queen's Park\", 'Not assigned', \"Queen's Park\", 'Scarborough', 'Scarborough', 'Not assigned', 'North York', 'East York', 'East York', 'Downtown Toronto', 'Downtown Toronto', 'North York', 'Not assigned', 'Not assigned', 'Etobicoke', 'Etobicoke', 'Etobicoke', 'Etobicoke', 'Etobicoke', 'Scarborough', 'Scarborough', 'Scarborough', 'Not assigned', 'North York', 'North York', 'East York', 'Downtown Toronto', 'York', 'Not assigned', 'Not assigned', 'Etobicoke', 'Etobicoke', 'Etobicoke', 'Etobicoke', 'Scarborough', 'Scarborough', 'Scarborough', 'Not assigned', 'Not assigned', 'East Toronto', 'Downtown Toronto', 'York', 'Not assigned', 'Not assigned', 'Not assigned', 'Scarborough', 'Not assigned', 'Not assigned', 'East York', 'Downtown Toronto', 'Downtown Toronto', 'Not assigned', 'Not assigned', 'Not assigned', 'Scarborough', 'North York', 'North York', 'North York', 'North York', 'East York', 'Downtown Toronto', 'Downtown Toronto', 'Downtown Toronto', 'West Toronto', 'West Toronto', 'Not assigned', 'Not assigned', 'Not assigned', 'Scarborough', 'North York', 'North York', 'North York', 'North York', 'North York', 'East York', 'Downtown Toronto', 'Downtown Toronto', 'Downtown Toronto', 'West Toronto', 'West Toronto', 'Not assigned', 'Not assigned', 'Not assigned', 'Scarborough', 'Scarborough', 'Scarborough', 'North York', 'North York', 'North York', 'East Toronto', 'East Toronto', 'Downtown Toronto', 'Downtown Toronto', 'West Toronto', 'West Toronto', 'West Toronto', 'Not assigned', 'Not assigned', 'Not assigned', 'Scarborough', 'Scarborough', 'Scarborough', 'North York', 'North York', 'North York', 'East Toronto', 'East Toronto', 'Downtown Toronto', 'Downtown Toronto', 'North York', 'North York', 'North York', 'Not assigned', 'Not assigned', 'North York', 'Scarborough', 'Scarborough', 'Scarborough', 'North York', 'North York', 'North York', 'East Toronto', 'North York', 'North York', 'York', 'York', 'York', 'York', 'Not assigned', 'Not assigned', 'North York', 'North York', 'Scarborough', 'Scarborough', 'North York', 'North York', 'Central Toronto', 'Central Toronto', 'York', 'York', 'Not assigned', 'Not assigned', 'York', 'Scarborough', 'Scarborough', 'Scarborough', 'North York', 'Not assigned', 'Central Toronto', 'Central Toronto', 'Central Toronto', 'West Toronto', 'West Toronto', 'Not assigned', 'Not assigned', 'Etobicoke', 'Scarborough', 'Scarborough', 'North York', 'Not assigned', 'Central Toronto', 'Central Toronto', 'Central Toronto', 'Central Toronto', 'West Toronto', 'West Toronto', 'Mississauga', 'Not assigned', 'Etobicoke', 'Etobicoke', 'Etobicoke', 'Etobicoke', 'Scarborough', 'Not assigned', 'Not assigned', 'Central Toronto', 'Downtown Toronto', 'Downtown Toronto', 'West Toronto', 'West Toronto', 'Not assigned', 'Not assigned', 'Not assigned', 'Scarborough', 'Scarborough', 'Scarborough', 'Not assigned', 'Not assigned', 'Central Toronto', 'Central Toronto', 'Downtown Toronto', 'Downtown Toronto', 'Downtown Toronto', 'Not assigned', 'Not assigned', 'Not assigned', 'Not assigned', 'Scarborough', 'Scarborough', 'Scarborough', 'Scarborough', 'Not assigned', 'Not assigned', 'Central Toronto', 'Central Toronto', 'Central Toronto', 'Central Toronto', 'Central Toronto', 'Downtown Toronto', 'Downtown Toronto', 'Downtown Toronto', 'Downtown Toronto', 'Downtown Toronto', 'Downtown Toronto', 'Downtown Toronto', 'Not assigned', 'Not assigned', 'Etobicoke', 'Etobicoke', 'Etobicoke', 'Etobicoke', 'Etobicoke', 'Etobicoke', 'Etobicoke', 'Etobicoke', 'Etobicoke', 'Etobicoke', 'Etobicoke', 'Scarborough', 'Not assigned', 'Not assigned', 'Downtown Toronto', 'Downtown Toronto', 'Not assigned', 'Not assigned', 'Etobicoke', 'Etobicoke', 'Etobicoke', 'Scarborough', 'Not assigned', 'Not assigned', 'Downtown Toronto', 'Downtown Toronto', 'Downtown Toronto', 'Downtown Toronto', 'Not assigned', 'Not assigned', 'Etobicoke', 'Etobicoke', 'Etobicoke', 'Not assigned', 'Not assigned', 'Not assigned', 'Not assigned', 'Downtown Toronto', 'Not assigned', 'Not assigned', 'East Toronto', 'Etobicoke', 'Etobicoke', 'Etobicoke', 'Etobicoke', 'Etobicoke', 'Etobicoke', 'Etobicoke', 'Etobicoke', 'Not assigned', 'Not assigned', 'Not assigned', 'Not assigned', 'Not assigned', 'Not assigned', 'Not assigned', 'Not assigned', 'Etobicoke', 'Etobicoke', 'Etobicoke', 'Etobicoke', 'Etobicoke', 'Not assigned']), ('Neighbourhood', ['Not assigned', 'Not assigned', 'Parkwoods', 'Victoria Village', 'Harbourfront', 'Lawrence Heights', 'Lawrence Manor', 'Not assigned', 'Not assigned', \"Queen's Park\", 'Rouge', 'Malvern', 'Not assigned', 'Don Mills North', 'Woodbine Gardens', 'Parkview Hill', 'Ryerson', 'Garden District', 'Glencairn', 'Not assigned', 'Not assigned', 'Cloverdale', 'Islington', 'Martin Grove', 'Princess Gardens', 'West Deane Park', 'Highland Creek', 'Rouge Hill', 'Port Union', 'Not assigned', 'Flemingdon Park', 'Don Mills South', 'Woodbine Heights', 'St. James Town', 'Humewood-Cedarvale', 'Not assigned', 'Not assigned', 'Bloordale Gardens', 'Eringate', 'Markland Wood', 'Old Burnhamthorpe', 'Guildwood', 'Morningside', 'West Hill', 'Not assigned', 'Not assigned', 'The Beaches', 'Berczy Park', 'Caledonia-Fairbanks', 'Not assigned', 'Not assigned', 'Not assigned', 'Woburn', 'Not assigned', 'Not assigned', 'Leaside', 'Central Bay Street', 'Christie', 'Not assigned', 'Not assigned', 'Not assigned', 'Cedarbrae', 'Hillcrest Village', 'Bathurst Manor', 'Downsview North', 'Wilson Heights', 'Thorncliffe Park', 'Adelaide', 'King', 'Richmond', 'Dovercourt Village', 'Dufferin', 'Not assigned', 'Not assigned', 'Not assigned', 'Scarborough Village', 'Fairview', 'Henry Farm', 'Oriole', 'Northwood Park', 'York University', 'East Toronto', 'Harbourfront East', 'Toronto Islands', 'Union Station', 'Little Portugal', 'Trinity', 'Not assigned', 'Not assigned', 'Not assigned', 'East Birchmount Park', 'Ionview', 'Kennedy Park', 'Bayview Village', 'CFB Toronto', 'Downsview East', 'The Danforth West', 'Riverdale', 'Design Exchange', 'Toronto Dominion Centre', 'Brockton', 'Exhibition Place', 'Parkdale Village', 'Not assigned', 'Not assigned', 'Not assigned', 'Clairlea', 'Golden Mile', 'Oakridge', 'Silver Hills', 'York Mills', 'Downsview West', 'The Beaches West', 'India Bazaar', 'Commerce Court', 'Victoria Hotel', 'Downsview', 'North Park', 'Upwood Park', 'Not assigned', 'Not assigned', 'Humber Summit', 'Cliffcrest', 'Cliffside', 'Scarborough Village West', 'Newtonbrook', 'Willowdale', 'Downsview Central', 'Studio District', 'Bedford Park', 'Lawrence Manor East', 'Del Ray', 'Keelesdale', 'Mount Dennis', 'Silverthorn', 'Not assigned', 'Not assigned', 'Emery', 'Humberlea', 'Birch Cliff', 'Cliffside West', 'Willowdale South', 'Downsview Northwest', 'Lawrence Park', 'Roselawn', 'The Junction North', 'Runnymede', 'Not assigned', 'Not assigned', 'Weston', 'Dorset Park', 'Scarborough Town Centre', 'Wexford Heights', 'York Mills West', 'Not assigned', 'Davisville North', 'Forest Hill North', 'Forest Hill West', 'High Park', 'The Junction South', 'Not assigned', 'Not assigned', 'Westmount', 'Maryvale', 'Wexford', 'Willowdale West', 'Not assigned', 'North Toronto West', 'The Annex', 'North Midtown', 'Yorkville', 'Parkdale', 'Roncesvalles', 'Canada Post Gateway Processing Centre', 'Not assigned', 'Kingsview Village', 'Martin Grove Gardens', 'Richview Gardens', 'St. Phillips', 'Agincourt', 'Not assigned', 'Not assigned', 'Davisville', 'Harbord', 'University of Toronto', 'Runnymede', 'Swansea', 'Not assigned', 'Not assigned', 'Not assigned', 'Clarks Corners', 'Sullivan', \"Tam O'Shanter\", 'Not assigned', 'Not assigned', 'Moore Park', 'Summerhill East', 'Chinatown', 'Grange Park', 'Kensington Market', 'Not assigned', 'Not assigned', 'Not assigned', 'Not assigned', 'Agincourt North', \"L'Amoreaux East\", 'Milliken', 'Steeles East', 'Not assigned', 'Not assigned', 'Deer Park', 'Forest Hill SE', 'Rathnelly', 'South Hill', 'Summerhill West', 'CN Tower', 'Bathurst Quay', 'Island airport', 'Harbourfront West', 'King and Spadina', 'Railway Lands', 'South Niagara', 'Not assigned', 'Not assigned', 'Humber Bay Shores', 'Mimico South', 'New Toronto', 'Albion Gardens', 'Beaumond Heights', 'Humbergate', 'Jamestown', 'Mount Olive', 'Silverstone', 'South Steeles', 'Thistletown', \"L'Amoreaux West\", 'Not assigned', 'Not assigned', 'Rosedale', 'Stn A PO Boxes 25 The Esplanade', 'Not assigned', 'Not assigned', 'Alderwood', 'Long Branch', 'Northwest', 'Upper Rouge', 'Not assigned', 'Not assigned', 'Cabbagetown', 'St. James Town', 'First Canadian Place', 'Underground city', 'Not assigned', 'Not assigned', 'The Kingsway', 'Montgomery Road', 'Old Mill North', 'Not assigned', 'Not assigned', 'Not assigned', 'Not assigned', 'Church and Wellesley', 'Not assigned', 'Not assigned', 'Business Reply Mail Processing Centre 969 Eastern', 'Humber Bay', \"King's Mill Park\", 'Kingsway Park South East', 'Mimico NE', 'Old Mill South', 'The Queensway East', 'Royal York South East', 'Sunnylea', 'Not assigned', 'Not assigned', 'Not assigned', 'Not assigned', 'Not assigned', 'Not assigned', 'Not assigned', 'Not assigned', 'Kingsway Park South West', 'Mimico NW', 'The Queensway West', 'Royal York South West', 'South of Bloor', 'Not assigned'])]\n",
            "3\n",
            "[287, 287, 287]\n"
          ],
          "name": "stdout"
        }
      ]
    },
    {
      "cell_type": "markdown",
      "metadata": {
        "id": "xShUXBKeN-5o",
        "colab_type": "text"
      },
      "source": [
        "<h4>Creating a Pandas Data frame from the List of headers and rows of Toronto Neighbourhood data</h4>"
      ]
    },
    {
      "cell_type": "code",
      "metadata": {
        "id": "ZUlHU8lbClj_",
        "colab_type": "code",
        "colab": {
          "base_uri": "https://localhost:8080/",
          "height": 219
        },
        "outputId": "fbfae784-2623-4873-eb5b-fd98d6d8f893"
      },
      "source": [
        "#Creating a Pandas Data Frame\n",
        "toronto_struct={header:rows for (header,rows) in toronto_data}\n",
        "toronto_df=pd.DataFrame(toronto_struct)\n",
        "\n",
        "#Dropping rows with Borough value of Not assigned and resetting the index\n",
        "toronto_df = toronto_df.drop(toronto_df.index[toronto_df['Borough'] == 'Not assigned']).reset_index(drop = True)\n",
        "\n",
        "#print(toronto_df.shape)\n",
        "toronto_df.head()"
      ],
      "execution_count": 10,
      "outputs": [
        {
          "output_type": "stream",
          "text": [
            "(210, 3)\n"
          ],
          "name": "stdout"
        },
        {
          "output_type": "execute_result",
          "data": {
            "text/html": [
              "<div>\n",
              "<style scoped>\n",
              "    .dataframe tbody tr th:only-of-type {\n",
              "        vertical-align: middle;\n",
              "    }\n",
              "\n",
              "    .dataframe tbody tr th {\n",
              "        vertical-align: top;\n",
              "    }\n",
              "\n",
              "    .dataframe thead th {\n",
              "        text-align: right;\n",
              "    }\n",
              "</style>\n",
              "<table border=\"1\" class=\"dataframe\">\n",
              "  <thead>\n",
              "    <tr style=\"text-align: right;\">\n",
              "      <th></th>\n",
              "      <th>Postcode</th>\n",
              "      <th>Borough</th>\n",
              "      <th>Neighbourhood</th>\n",
              "    </tr>\n",
              "  </thead>\n",
              "  <tbody>\n",
              "    <tr>\n",
              "      <th>0</th>\n",
              "      <td>M3A</td>\n",
              "      <td>North York</td>\n",
              "      <td>Parkwoods</td>\n",
              "    </tr>\n",
              "    <tr>\n",
              "      <th>1</th>\n",
              "      <td>M4A</td>\n",
              "      <td>North York</td>\n",
              "      <td>Victoria Village</td>\n",
              "    </tr>\n",
              "    <tr>\n",
              "      <th>2</th>\n",
              "      <td>M5A</td>\n",
              "      <td>Downtown Toronto</td>\n",
              "      <td>Harbourfront</td>\n",
              "    </tr>\n",
              "    <tr>\n",
              "      <th>3</th>\n",
              "      <td>M6A</td>\n",
              "      <td>North York</td>\n",
              "      <td>Lawrence Heights</td>\n",
              "    </tr>\n",
              "    <tr>\n",
              "      <th>4</th>\n",
              "      <td>M6A</td>\n",
              "      <td>North York</td>\n",
              "      <td>Lawrence Manor</td>\n",
              "    </tr>\n",
              "  </tbody>\n",
              "</table>\n",
              "</div>"
            ],
            "text/plain": [
              "  Postcode           Borough     Neighbourhood\n",
              "0      M3A        North York         Parkwoods\n",
              "1      M4A        North York  Victoria Village\n",
              "2      M5A  Downtown Toronto      Harbourfront\n",
              "3      M6A        North York  Lawrence Heights\n",
              "4      M6A        North York    Lawrence Manor"
            ]
          },
          "metadata": {
            "tags": []
          },
          "execution_count": 10
        }
      ]
    },
    {
      "cell_type": "markdown",
      "metadata": {
        "id": "Q-oAbeckO2zK",
        "colab_type": "text"
      },
      "source": [
        "<h4>Further Cleaning the Toronto Neighbourhood data</h4>"
      ]
    },
    {
      "cell_type": "code",
      "metadata": {
        "id": "qfG2uluPKX2X",
        "colab_type": "code",
        "colab": {
          "base_uri": "https://localhost:8080/",
          "height": 271
        },
        "outputId": "05b25094-562b-4896-86d6-bdbef8f810c1"
      },
      "source": [
        "#Grouping Neighbourhoods by Postal codes\n",
        "toronto_df = toronto_df.groupby(['Postcode', 'Borough'])['Neighbourhood'].apply(','.join).reset_index()\n",
        "\n",
        "#Replacing Neighbourhood with Not Assigned with name of Borough\n",
        "toronto_df.loc[toronto_df['Neighbourhood'] == 'Not assigned', 'Neighbourhood'] = toronto_df['Borough']\n",
        "\n",
        "#print(toronto_df[toronto_df['Borough'] == 'Queen\\'s Park'])\n",
        "toronto_df.head()"
      ],
      "execution_count": 14,
      "outputs": [
        {
          "output_type": "stream",
          "text": [
            "   Postcode       Borough Neighbourhood\n",
            "85      M7A  Queen's Park  Queen's Park\n",
            "93      M9A  Queen's Park  Queen's Park\n",
            "(103, 3)\n"
          ],
          "name": "stdout"
        },
        {
          "output_type": "execute_result",
          "data": {
            "text/html": [
              "<div>\n",
              "<style scoped>\n",
              "    .dataframe tbody tr th:only-of-type {\n",
              "        vertical-align: middle;\n",
              "    }\n",
              "\n",
              "    .dataframe tbody tr th {\n",
              "        vertical-align: top;\n",
              "    }\n",
              "\n",
              "    .dataframe thead th {\n",
              "        text-align: right;\n",
              "    }\n",
              "</style>\n",
              "<table border=\"1\" class=\"dataframe\">\n",
              "  <thead>\n",
              "    <tr style=\"text-align: right;\">\n",
              "      <th></th>\n",
              "      <th>Postcode</th>\n",
              "      <th>Borough</th>\n",
              "      <th>Neighbourhood</th>\n",
              "    </tr>\n",
              "  </thead>\n",
              "  <tbody>\n",
              "    <tr>\n",
              "      <th>0</th>\n",
              "      <td>M1B</td>\n",
              "      <td>Scarborough</td>\n",
              "      <td>Rouge,Malvern</td>\n",
              "    </tr>\n",
              "    <tr>\n",
              "      <th>1</th>\n",
              "      <td>M1C</td>\n",
              "      <td>Scarborough</td>\n",
              "      <td>Highland Creek,Rouge Hill,Port Union</td>\n",
              "    </tr>\n",
              "    <tr>\n",
              "      <th>2</th>\n",
              "      <td>M1E</td>\n",
              "      <td>Scarborough</td>\n",
              "      <td>Guildwood,Morningside,West Hill</td>\n",
              "    </tr>\n",
              "    <tr>\n",
              "      <th>3</th>\n",
              "      <td>M1G</td>\n",
              "      <td>Scarborough</td>\n",
              "      <td>Woburn</td>\n",
              "    </tr>\n",
              "    <tr>\n",
              "      <th>4</th>\n",
              "      <td>M1H</td>\n",
              "      <td>Scarborough</td>\n",
              "      <td>Cedarbrae</td>\n",
              "    </tr>\n",
              "  </tbody>\n",
              "</table>\n",
              "</div>"
            ],
            "text/plain": [
              "  Postcode      Borough                         Neighbourhood\n",
              "0      M1B  Scarborough                         Rouge,Malvern\n",
              "1      M1C  Scarborough  Highland Creek,Rouge Hill,Port Union\n",
              "2      M1E  Scarborough       Guildwood,Morningside,West Hill\n",
              "3      M1G  Scarborough                                Woburn\n",
              "4      M1H  Scarborough                             Cedarbrae"
            ]
          },
          "metadata": {
            "tags": []
          },
          "execution_count": 14
        }
      ]
    },
    {
      "cell_type": "markdown",
      "metadata": {
        "id": "j2cfU6daRy4x",
        "colab_type": "text"
      },
      "source": [
        "<h2>Final Dimensions of the Data Frame, after Cleaning and Grouping the data</h2>"
      ]
    },
    {
      "cell_type": "code",
      "metadata": {
        "id": "wVGagD7ePYbA",
        "colab_type": "code",
        "colab": {
          "base_uri": "https://localhost:8080/",
          "height": 35
        },
        "outputId": "3b80f207-475b-49de-ae66-84db39977909"
      },
      "source": [
        "toronto_df.shape"
      ],
      "execution_count": 15,
      "outputs": [
        {
          "output_type": "execute_result",
          "data": {
            "text/plain": [
              "(103, 3)"
            ]
          },
          "metadata": {
            "tags": []
          },
          "execution_count": 15
        }
      ]
    },
    {
      "cell_type": "code",
      "metadata": {
        "id": "sCJO9EIkSEfb",
        "colab_type": "code",
        "colab": {}
      },
      "source": [
        ""
      ],
      "execution_count": 0,
      "outputs": []
    }
  ]
}