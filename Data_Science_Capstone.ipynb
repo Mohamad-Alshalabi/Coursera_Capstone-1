{
  "nbformat": 4,
  "nbformat_minor": 0,
  "metadata": {
    "colab": {
      "name": "Data_Science_Capstone.ipynb",
      "provenance": []
    },
    "kernelspec": {
      "name": "python3",
      "display_name": "Python 3"
    }
  },
  "cells": [
    {
      "cell_type": "markdown",
      "metadata": {
        "id": "N77Ns8t9t04h",
        "colab_type": "text"
      },
      "source": [
        "<h1>Coursera Data Science Capstone Project Part - 1<h1>\n",
        "<h4>This notebook will be used to implement the Capstone projects titled <b><i>\"The battle of neighbourhoods\"</i></b></h4>"
      ]
    },
    {
      "cell_type": "markdown",
      "metadata": {
        "id": "dAvh6KJYvauu",
        "colab_type": "text"
      },
      "source": [
        "<h3>Segmenting and Clustering Neighborhoods in Toronto</h3>"
      ]
    },
    {
      "cell_type": "code",
      "metadata": {
        "id": "k6XOzWnnuXgk",
        "colab_type": "code",
        "outputId": "20c7feb2-bd03-4ab2-c1d0-9207e50604f2",
        "colab": {
          "base_uri": "https://localhost:8080/",
          "height": 35
        }
      },
      "source": [
        "import numpy as np\n",
        "import pandas as pd\n",
        "import requests\n",
        "import lxml.html as lh\n",
        "\n",
        "print('Libraries imported')"
      ],
      "execution_count": 1,
      "outputs": [
        {
          "output_type": "stream",
          "text": [
            "Libraries imported\n"
          ],
          "name": "stdout"
        }
      ]
    },
    {
      "cell_type": "code",
      "metadata": {
        "id": "iE_Ik2_Uur_W",
        "colab_type": "code",
        "colab": {}
      },
      "source": [
        "#Toronto Wikipedia link\n",
        "url='https://en.wikipedia.org/wiki/List_of_postal_codes_of_Canada:_M'\n",
        "#getting content from the html page\n",
        "page_content = lh.fromstring(requests.get(url).content)\n",
        "#accessing the table data\n",
        "table_data = page_content.xpath(\"//tr\")"
      ],
      "execution_count": 0,
      "outputs": []
    },
    {
      "cell_type": "code",
      "metadata": {
        "id": "W0UPelrNwSzA",
        "colab_type": "code",
        "colab": {
          "base_uri": "https://localhost:8080/",
          "height": 87
        },
        "outputId": "c06045ff-094b-4354-a836-51913d39e76f"
      },
      "source": [
        "header=[]\n",
        "col_ind=0\n",
        "\n",
        "#Creating header with empty list to add list of values under each column\n",
        "for row in table_data[0]:\n",
        "    col_ind+=1\n",
        "    name=row.text_content()\n",
        "    print (col_ind,name)\n",
        "    header.append((name,[]))"
      ],
      "execution_count": 17,
      "outputs": [
        {
          "output_type": "stream",
          "text": [
            "1 Postcode\n",
            "2 Borough\n",
            "3 Neighbourhood\n",
            "\n"
          ],
          "name": "stdout"
        }
      ]
    },
    {
      "cell_type": "code",
      "metadata": {
        "id": "qSI609MEy1_4",
        "colab_type": "code",
        "colab": {}
      },
      "source": [
        ""
      ],
      "execution_count": 0,
      "outputs": []
    }
  ]
}