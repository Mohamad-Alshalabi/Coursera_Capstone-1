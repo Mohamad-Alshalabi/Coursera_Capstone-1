{
  "nbformat": 4,
  "nbformat_minor": 0,
  "metadata": {
    "colab": {
      "name": "Data_Science_Capstone.ipynb",
      "provenance": []
    },
    "kernelspec": {
      "name": "python3",
      "display_name": "Python 3"
    }
  },
  "cells": [
    {
      "cell_type": "markdown",
      "metadata": {
        "id": "N77Ns8t9t04h",
        "colab_type": "text"
      },
      "source": [
        "<h1>Coursera Data Science Capstone Project<h1>\n",
        "<h4>This notebook will be used to implement the Capstone projects titled <b><i>\"The battle of neighbourhoods\"</i></b></h4>"
      ]
    },
    {
      "cell_type": "code",
      "metadata": {
        "id": "k6XOzWnnuXgk",
        "colab_type": "code",
        "colab": {
          "base_uri": "https://localhost:8080/",
          "height": 35
        },
        "outputId": "4ded4308-5c94-4e83-beb4-747a109c1f59"
      },
      "source": [
        "import numpy as np\n",
        "import pandas as pd\n",
        "\n",
        "print(\"Hello Capstone Project Course!\")"
      ],
      "execution_count": 3,
      "outputs": [
        {
          "output_type": "stream",
          "text": [
            "Hello Capstone Project Course!\n"
          ],
          "name": "stdout"
        }
      ]
    },
    {
      "cell_type": "code",
      "metadata": {
        "id": "iE_Ik2_Uur_W",
        "colab_type": "code",
        "colab": {}
      },
      "source": [
        ""
      ],
      "execution_count": 0,
      "outputs": []
    }
  ]
}